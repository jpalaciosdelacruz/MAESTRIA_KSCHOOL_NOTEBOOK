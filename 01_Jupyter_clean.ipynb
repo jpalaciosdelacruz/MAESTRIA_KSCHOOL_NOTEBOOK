{
 "cells": [
  {
   "cell_type": "markdown",
   "metadata": {},
   "source": [
    "# Jupyter Notebooks"
   ]
  },
  {
   "cell_type": "markdown",
   "metadata": {},
   "source": [
    "## Jupiter Notebooks"
   ]
  },
  {
   "cell_type": "code",
   "execution_count": 1,
   "metadata": {},
   "outputs": [
    {
     "data": {
      "text/plain": [
       "5"
      ]
     },
     "execution_count": 1,
     "metadata": {},
     "output_type": "execute_result"
    }
   ],
   "source": [
    "2 + 3"
   ]
  },
  {
   "cell_type": "markdown",
   "metadata": {},
   "source": [
    "- Documentos `.json`\n",
    "- Celdas/Cells -> Unidades básicas de código/texto\n",
    "    - **Tipo código (Y)**\n",
    "    - **Tipo texto (M)**\n",
    "    - **Tipo raw (R)**\n",
    "- A cada notebook se le asocia un **kernel** independiente.\n",
    "- Los kernels pueden interrumpirse, reiniciarse y pararse.\n",
    "- Podemos tener varios kernels ejecutándose en paralelo.\n",
    "- Hay kernels para varios lenguajes de programación."
   ]
  },
  {
   "cell_type": "code",
   "execution_count": null,
   "metadata": {},
   "outputs": [],
   "source": [
    "## semi estructurado, algo que parece una tabla pero existe una diferencia en tre las columnas separadas de una\n",
    "## fila con otra fila que tenga m'as campos"
   ]
  },
  {
   "cell_type": "code",
   "execution_count": 2,
   "metadata": {
    "scrolled": true
   },
   "outputs": [
    {
     "name": "stdout",
     "output_type": "stream",
     "text": [
      "/home/dsc/Documents/KSchool/Notebooks/part1/part1\r\n"
     ]
    }
   ],
   "source": [
    "pwd"
   ]
  },
  {
   "cell_type": "code",
   "execution_count": 3,
   "metadata": {
    "scrolled": true
   },
   "outputs": [
    {
     "name": "stdout",
     "output_type": "stream",
     "text": [
      " 01_Jupyter_clean.ipynb      04_Listas_clean.ipynb           \u001b[0m\u001b[01;34mpictures\u001b[0m/\r\n",
      " 02_Python_clean.ipynb      '05_Tuplas y Sets_clean.ipynb'\r\n",
      " 03_Strings_in_clean.ipynb   06_Diccionarios_clean.ipynb\r\n"
     ]
    }
   ],
   "source": [
    "ls"
   ]
  },
  {
   "cell_type": "code",
   "execution_count": 4,
   "metadata": {},
   "outputs": [
    {
     "name": "stdout",
     "output_type": "stream",
     "text": [
      "{\r\n",
      " \"cells\": [\r\n",
      "  {\r\n",
      "   \"cell_type\": \"markdown\",\r\n",
      "   \"metadata\": {},\r\n",
      "   \"source\": [\r\n",
      "    \"# Jupyter Notebooks\"\r\n",
      "   ]\r\n",
      "  },\r\n",
      "  {\r\n",
      "   \"cell_type\": \"markdown\",\r\n",
      "   \"metadata\": {},\r\n",
      "   \"source\": [\r\n",
      "    \"## Jupiter Notebooks\"\r\n",
      "   ]\r\n",
      "  },\r\n",
      "  {\r\n",
      "   \"cell_type\": \"code\",\r\n",
      "   \"execution_count\": 1,\r\n",
      "   \"metadata\": {},\r\n",
      "   \"outputs\": [\r\n",
      "    {\r\n",
      "     \"data\": {\r\n",
      "      \"text/plain\": [\r\n",
      "       \"5\"\r\n",
      "      ]\r\n",
      "     },\r\n",
      "     \"execution_count\": 1,\r\n",
      "     \"metadata\": {},\r\n",
      "     \"output_type\": \"execute_result\"\r\n",
      "    }\r\n",
      "   ],\r\n",
      "   \"source\": [\r\n",
      "    \"2 + 3\"\r\n",
      "   ]\r\n",
      "  },\r\n",
      "  {\r\n",
      "   \"cell_type\": \"markdown\",\r\n",
      "   \"metadata\": {},\r\n",
      "   \"source\": [\r\n",
      "    \"- Documentos `.json`\\n\",\r\n",
      "    \"- Celdas/Cells -> Unidades básicas de código/texto\\n\",\r\n",
      "    \"    - **Tipo código (Y)**\\n\",\r\n",
      "    \"    - **Tipo texto (M)**\\n\",\r\n",
      "    \"    - **Tipo raw (R)**\\n\",\r\n",
      "    \"- A cada notebook se le asocia un **kernel** independiente.\\n\",\r\n",
      "    \"- Los kernels pueden interrumpirse, reiniciarse y pararse.\\n\",\r\n",
      "    \"- Podemos tener varios kernels ejecutándose en paralelo.\\n\",\r\n",
      "    \"- Hay kernels para varios lenguajes de programación.\"\r\n",
      "   ]\r\n",
      "  },\r\n",
      "  {\r\n",
      "   \"cell_type\": \"code\",\r\n",
      "   \"execution_count\": null,\r\n",
      "   \"metadata\": {},\r\n",
      "   \"outputs\": [],\r\n",
      "   \"source\": [\r\n",
      "    \"## semi estructurado, algo que parece una tabla pero existe una diferencia en tre las columnas separadas de una\\n\",\r\n",
      "    \"## fila con otra fila que tenga m'as campos\"\r\n",
      "   ]\r\n",
      "  },\r\n",
      "  {\r\n",
      "   \"cell_type\": \"code\",\r\n",
      "   \"execution_count\": 1,\r\n",
      "   \"metadata\": {},\r\n",
      "   \"outputs\": [\r\n",
      "    {\r\n",
      "     \"data\": {\r\n",
      "      \"text/plain\": [\r\n",
      "       \"'/home/dsc/Documents/KSchool/Notebooks/part1/part1'\"\r\n",
      "      ]\r\n",
      "     },\r\n",
      "     \"execution_count\": 1,\r\n",
      "     \"metadata\": {},\r\n",
      "     \"output_type\": \"execute_result\"\r\n",
      "    }\r\n",
      "   ],\r\n",
      "   \"source\": [\r\n",
      "    \"pwd\"\r\n",
      "   ]\r\n",
      "  },\r\n",
      "  {\r\n",
      "   \"cell_type\": \"markdown\",\r\n",
      "   \"metadata\": {},\r\n",
      "   \"source\": [\r\n",
      "    \"## Barside\"\r\n",
      "   ]\r\n",
      "  },\r\n",
      "  {\r\n",
      "   \"cell_type\": \"markdown\",\r\n",
      "   \"metadata\": {},\r\n",
      "   \"source\": [\r\n",
      "    \"- Explorador de archivos\\n\",\r\n",
      "    \"- Kernels/Terminals -> Shutdown kernels\\n\",\r\n",
      "    \"- Acciones/commandos (keyboard shortcuts)\\n\",\r\n",
      "    \"- Herramientas\\n\",\r\n",
      "    \"- Pestañas abiertas\\n\",\r\n",
      "    \"- Plugins\"\r\n",
      "   ]\r\n",
      "  },\r\n",
      "  {\r\n",
      "   \"cell_type\": \"markdown\",\r\n",
      "   \"metadata\": {},\r\n",
      "   \"source\": [\r\n",
      "    \"## Comandos útiles\"\r\n",
      "   ]\r\n",
      "  },\r\n",
      "  {\r\n",
      "   \"cell_type\": \"markdown\",\r\n",
      "   \"metadata\": {},\r\n",
      "   \"source\": [\r\n",
      "    \"- Command Mode:\\n\",\r\n",
      "    \"|Shortcut| Desciption|\\n\",\r\n",
      "    \"|-|-|\\n\",\r\n",
      "    \"|shift + enter| ejecuta la celda, selecciona celda siguiente|\\n\",\r\n",
      "    \"|ctrl + enter| ejecuta la celda|\\n\",\r\n",
      "    \"|alt + enter| ejecuta la celda, inserta una nueva celda debajo|\\n\",\r\n",
      "    \"|A |inserta una celda encima (above) de la actual|\\n\",\r\n",
      "    \"|B |inserta una celda abajo (below) de la actual|\\n\",\r\n",
      "    \"|C |copia la celda |\\n\",\r\n",
      "    \"|V |pega la celda|\\n\",\r\n",
      "    \"|D , D |borra la celda seleccionada|\\n\",\r\n",
      "    \"|Z|deshace última acción de celda|\\n\",\r\n",
      "    \"|shift + M | junta las celdas seleccionadas|\\n\",\r\n",
      "    \"|I , I |interrupt kernel|\\n\",\r\n",
      "    \"|0 , 0 |restart kernel (with dialog)|\\n\",\r\n",
      "    \"|Y |cambia la celda a modo código|\\n\",\r\n",
      "    \"|M |cambia la celda a modo markdown (texto)|\\n\",\r\n",
      "    \"|R |cambia la celda a modo raw|\\n\",\r\n",
      "    \"- Edit Mode:\\n\",\r\n",
      "    \"|Shortcut| Desciption|\\n\",\r\n",
      "    \"|-|-|\\n\",\r\n",
      "    \"|tab| autocompletado o indentación|\\n\",\r\n",
      "    \"|shift + tab| muestra ayuda sobre cualquier función|\\n\",\r\n",
      "    \"|ctrl + shift + - | divide la celda|\"\r\n",
      "   ]\r\n",
      "  },\r\n",
      "  {\r\n",
      "   \"cell_type\": \"markdown\",\r\n",
      "   \"metadata\": {},\r\n",
      "   \"source\": [\r\n",
      "    \"## Código\"\r\n",
      "   ]\r\n",
      "  },\r\n",
      "  {\r\n",
      "   \"cell_type\": \"markdown\",\r\n",
      "   \"metadata\": {},\r\n",
      "   \"source\": [\r\n",
      "    \"- Cada celda de código se puede ejecutar de forma independiente. \\n\",\r\n",
      "    \"- Para ejecutar una celda:\\n\",\r\n",
      "    \"    - Pulsa el botón `\\\"Run\\\"` situado arriba\\n\",\r\n",
      "    \"    - Pusa `Ctrl + Enter` (se quedará seleccionada la celda en la que te encuentres)\\n\",\r\n",
      "    \"    - Pulsa `Shift + Enter` (se ejecutará y pasará a seleccionarse la siguiente celda)\\n\",\r\n",
      "    \"- `[ ]:` -> Una celda sin ejecutar\\n\",\r\n",
      "    \"- `[*]:` -> Celda ejecutándose\\n\",\r\n",
      "    \"- `[6]` -> Celda ejecutada\\n\",\r\n",
      "    \"- `[6]` -> Si hay output, también aparece en el output el número asociado a la celda\\n\",\r\n",
      "    \"- Si una celda se ejecuta de nuevo, el número asociado cambiará.\"\r\n",
      "   ]\r\n",
      "  },\r\n",
      "  {\r\n",
      "   \"cell_type\": \"code\",\r\n",
      "   \"execution_count\": null,\r\n",
      "   \"metadata\": {},\r\n",
      "   \"outputs\": [],\r\n",
      "   \"source\": [\r\n",
      "    \"# Comentarios\\n\",\r\n",
      "    \"2+2\"\r\n",
      "   ]\r\n",
      "  },\r\n",
      "  {\r\n",
      "   \"cell_type\": \"markdown\",\r\n",
      "   \"metadata\": {},\r\n",
      "   \"source\": [\r\n",
      "    \"La celda sólo devuelve el resultado de la última línea\"\r\n",
      "   ]\r\n",
      "  },\r\n",
      "  {\r\n",
      "   \"cell_type\": \"code\",\r\n",
      "   \"execution_count\": null,\r\n",
      "   \"metadata\": {},\r\n",
      "   \"outputs\": [],\r\n",
      "   \"source\": [\r\n",
      "    \"2+2\\n\",\r\n",
      "    \"3+5\"\r\n",
      "   ]\r\n",
      "  },\r\n",
      "  {\r\n",
      "   \"cell_type\": \"markdown\",\r\n",
      "   \"metadata\": {},\r\n",
      "   \"source\": [\r\n",
      "    \"Esto no arroja nada ya que no hay ningún resultado que mostrar\"\r\n",
      "   ]\r\n",
      "  },\r\n",
      "  {\r\n",
      "   \"cell_type\": \"code\",\r\n",
      "   \"execution_count\": null,\r\n",
      "   \"metadata\": {},\r\n",
      "   \"outputs\": [],\r\n",
      "   \"source\": [\r\n",
      "    \"a = 2+2 \"\r\n",
      "   ]\r\n",
      "  },\r\n",
      "  {\r\n",
      "   \"cell_type\": \"markdown\",\r\n",
      "   \"metadata\": {},\r\n",
      "   \"source\": [\r\n",
      "    \"Podemos imprimir un resultado explícitamente\"\r\n",
      "   ]\r\n",
      "  },\r\n",
      "  {\r\n",
      "   \"cell_type\": \"code\",\r\n",
      "   \"execution_count\": null,\r\n",
      "   \"metadata\": {},\r\n",
      "   \"outputs\": [],\r\n",
      "   \"source\": [\r\n",
      "    \"a\"\r\n",
      "   ]\r\n",
      "  },\r\n",
      "  {\r\n",
      "   \"cell_type\": \"code\",\r\n",
      "   \"execution_count\": null,\r\n",
      "   \"metadata\": {},\r\n",
      "   \"outputs\": [],\r\n",
      "   \"source\": [\r\n",
      "    \"print(a)\\n\",\r\n",
      "    \"2*10\"\r\n",
      "   ]\r\n",
      "  },\r\n",
      "  {\r\n",
      "   \"cell_type\": \"markdown\",\r\n",
      "   \"metadata\": {},\r\n",
      "   \"source\": [\r\n",
      "    \"Variables accesibles en el notebook\"\r\n",
      "   ]\r\n",
      "  },\r\n",
      "  {\r\n",
      "   \"cell_type\": \"code\",\r\n",
      "   \"execution_count\": null,\r\n",
      "   \"metadata\": {},\r\n",
      "   \"outputs\": [],\r\n",
      "   \"source\": [\r\n",
      "    \"dir()\"\r\n",
      "   ]\r\n",
      "  },\r\n",
      "  {\r\n",
      "   \"cell_type\": \"markdown\",\r\n",
      "   \"metadata\": {},\r\n",
      "   \"source\": [\r\n",
      "    \"Las variables `_1`, `_2`, ... contienem los resultados de las celdas correspondientes.\\n\",\r\n",
      "    \"\\n\",\r\n",
      "    \"Las variables `_i1`, `_i2` continen los inputs de las celdas correspondientes.\\n\",\r\n",
      "    \"\\n\",\r\n",
      "    \"(iPython)\"\r\n",
      "   ]\r\n",
      "  },\r\n",
      "  {\r\n",
      "   \"cell_type\": \"code\",\r\n",
      "   \"execution_count\": null,\r\n",
      "   \"metadata\": {},\r\n",
      "   \"outputs\": [],\r\n",
      "   \"source\": [\r\n",
      "    \"_8\"\r\n",
      "   ]\r\n",
      "  },\r\n",
      "  {\r\n",
      "   \"cell_type\": \"code\",\r\n",
      "   \"execution_count\": null,\r\n",
      "   \"metadata\": {},\r\n",
      "   \"outputs\": [],\r\n",
      "   \"source\": [\r\n",
      "    \"_i8\"\r\n",
      "   ]\r\n",
      "  },\r\n",
      "  {\r\n",
      "   \"cell_type\": \"code\",\r\n",
      "   \"execution_count\": null,\r\n",
      "   \"metadata\": {},\r\n",
      "   \"outputs\": [],\r\n",
      "   \"source\": [\r\n",
      "    \"eval(_i4)\"\r\n",
      "   ]\r\n",
      "  },\r\n",
      "  {\r\n",
      "   \"cell_type\": \"markdown\",\r\n",
      "   \"metadata\": {},\r\n",
      "   \"source\": [\r\n",
      "    \"## Markdown\"\r\n",
      "   ]\r\n",
      "  },\r\n",
      "  {\r\n",
      "   \"cell_type\": \"markdown\",\r\n",
      "   \"metadata\": {},\r\n",
      "   \"source\": [\r\n",
      "    \"Podemos dar formato al texto usando el lenguaje **Markdown**. Por ejemplo:\\n\",\r\n",
      "    \"\\n\",\r\n",
      "    \"*cursiva*, **negrita**, **_ambas_**, ~~tachado~~, `citas`\\n\",\r\n",
      "    \"- Listas\\n\",\r\n",
      "    \"    - Listas anidadas\\n\",\r\n",
      "    \"        - Otra anidación\\n\",\r\n",
      "    \"1. Listas numeradas\\n\",\r\n",
      "    \"    1. Anidación\\n\",\r\n",
      "    \"        1. Otro nivel de anidación\\n\",\r\n",
      "    \"\\n\",\r\n",
      "    \"### Títulos\\n\",\r\n",
      "    \"#### Subtítulo\\n\",\r\n",
      "    \"##### Otro subtítulo\\n\",\r\n",
      "    \"\\n\",\r\n",
      "    \"Links:\\n\",\r\n",
      "    \"Si haces click [aquí](https://github.com/adam-p/markdown-here/wiki/Markdown-Cheatsheet) puedes ver una cheatsheet con formatos de Markdown.\\n\",\r\n",
      "    \"\\n\",\r\n",
      "    \"Código python:\\n\",\r\n",
      "    \"```python\\n\",\r\n",
      "    \"a = 2+2\\n\",\r\n",
      "    \"```\\n\",\r\n",
      "    \"\\n\",\r\n",
      "    \"También podemos escribir fórmulas usando $\\\\LaTeX$:\\n\",\r\n",
      "    \"\\n\",\r\n",
      "    \"$$\\\\sum_{n=1}^\\\\infty{\\\\frac{1}{n^2}} \\\\, = \\\\, \\\\frac{\\\\pi^2}{6}$$\\n\",\r\n",
      "    \"\\n\",\r\n",
      "    \"O si queremos insertar fórmulas directamente en el texto: $e^{i\\\\pi}+1\\\\,=\\\\,0$.\\n\",\r\n",
      "    \"\\n\",\r\n",
      "    \"Se pueden insertar figuras:\\n\",\r\n",
      "    \"<center>\\n\",\r\n",
      "    \"<img src=\\\"pictures/python.png\\\"  alt=\\\"drawing\\\" width=\\\"300\\\"/>\\n\",\r\n",
      "    \"</center>\"\r\n",
      "   ]\r\n",
      "  },\r\n",
      "  {\r\n",
      "   \"cell_type\": \"markdown\",\r\n",
      "   \"metadata\": {},\r\n",
      "   \"source\": [\r\n",
      "    \"##  Shell\"\r\n",
      "   ]\r\n",
      "  },\r\n",
      "  {\r\n",
      "   \"cell_type\": \"markdown\",\r\n",
      "   \"metadata\": {},\r\n",
      "   \"source\": [\r\n",
      "    \"- Podemos ejecutar comandos de shell con `!` directamente desde Jupyter.\\n\",\r\n",
      "    \"- No muestra la misma información que devuelve la terminal.\\n\",\r\n",
      "    \"- No es aconsejable, mejor directamente desde la terminal.\"\r\n",
      "   ]\r\n",
      "  },\r\n",
      "  {\r\n",
      "   \"cell_type\": \"code\",\r\n",
      "   \"execution_count\": null,\r\n",
      "   \"metadata\": {},\r\n",
      "   \"outputs\": [],\r\n",
      "   \"source\": [\r\n",
      "    \"path =\\\"/Users/aalmagro/Documents/KSchool/Streaming_002/IntroPython\\\"\"\r\n",
      "   ]\r\n",
      "  },\r\n",
      "  {\r\n",
      "   \"cell_type\": \"code\",\r\n",
      "   \"execution_count\": null,\r\n",
      "   \"metadata\": {},\r\n",
      "   \"outputs\": [],\r\n",
      "   \"source\": [\r\n",
      "    \"!ls\"\r\n",
      "   ]\r\n",
      "  },\r\n",
      "  {\r\n",
      "   \"cell_type\": \"code\",\r\n",
      "   \"execution_count\": null,\r\n",
      "   \"metadata\": {},\r\n",
      "   \"outputs\": [],\r\n",
      "   \"source\": [\r\n",
      "    \"!pwd\"\r\n",
      "   ]\r\n",
      "  },\r\n",
      "  {\r\n",
      "   \"cell_type\": \"code\",\r\n",
      "   \"execution_count\": null,\r\n",
      "   \"metadata\": {},\r\n",
      "   \"outputs\": [],\r\n",
      "   \"source\": [\r\n",
      "    \"!ls {path}\"\r\n",
      "   ]\r\n",
      "  },\r\n",
      "  {\r\n",
      "   \"cell_type\": \"code\",\r\n",
      "   \"execution_count\": null,\r\n",
      "   \"metadata\": {},\r\n",
      "   \"outputs\": [],\r\n",
      "   \"source\": [\r\n",
      "    \"!ls /Users/aalmagro/Documents/KSchool/Streaming_002/IntroPython\"\r\n",
      "   ]\r\n",
      "  },\r\n",
      "  {\r\n",
      "   \"cell_type\": \"markdown\",\r\n",
      "   \"metadata\": {},\r\n",
      "   \"source\": [\r\n",
      "    \"## Visualización\"\r\n",
      "   ]\r\n",
      "  },\r\n",
      "  {\r\n",
      "   \"cell_type\": \"markdown\",\r\n",
      "   \"metadata\": {},\r\n",
      "   \"source\": [\r\n",
      "    \"- Podemos visualizar varios notebooks al mismo tiempo ya que la pantalla puede dividirse con libertad.\\n\",\r\n",
      "    \"- Para ello podemos clickear en una pestaña y arrastrarla a la zona de la pantalla donde queremos verla.\"\r\n",
      "   ]\r\n",
      "  },\r\n",
      "  {\r\n",
      "   \"cell_type\": \"markdown\",\r\n",
      "   \"metadata\": {},\r\n",
      "   \"source\": [\r\n",
      "    \"## Exportar\"\r\n",
      "   ]\r\n",
      "  },\r\n",
      "  {\r\n",
      "   \"cell_type\": \"markdown\",\r\n",
      "   \"metadata\": {},\r\n",
      "   \"source\": [\r\n",
      "    \"- Podemos exportar los Notebooks en varios formatos\\n\",\r\n",
      "    \"- File -> Export notebook as...\\n\",\r\n",
      "    \"- Por ejemplo:\\n\",\r\n",
      "    \"    - **HTML**\\n\",\r\n",
      "    \"    - **PDF**\\n\",\r\n",
      "    \"    - $\\\\LaTeX$\\n\",\r\n",
      "    \"    - **Markdown**\\n\",\r\n",
      "    \"- En estos formatos no podremos ejecutar código, pero sí observar los resultados que hayan sido ejecutados previamente.\"\r\n",
      "   ]\r\n",
      "  },\r\n",
      "  {\r\n",
      "   \"cell_type\": \"markdown\",\r\n",
      "   \"metadata\": {},\r\n",
      "   \"source\": [\r\n",
      "    \"## Ventajas de los Notebooks\\n\",\r\n",
      "    \"- Muy útiles para exploración de datos, visualización de datos, investigación en un sentido amplio.\\n\",\r\n",
      "    \"- En general también para comunicar resultados: clases, congresos, demostraciones, ...\"\r\n",
      "   ]\r\n",
      "  },\r\n",
      "  {\r\n",
      "   \"cell_type\": \"markdown\",\r\n",
      "   \"metadata\": {},\r\n",
      "   \"source\": [\r\n",
      "    \"## Desventajas de los Notebooks\\n\",\r\n",
      "    \"- No son en general una herramienta para entornos de producción.\\n\",\r\n",
      "    \"- Para proyectos complejos, hay editores con mejores herramientas para desarroladores (VS Code/PyCharm).\"\r\n",
      "   ]\r\n",
      "  },\r\n",
      "  {\r\n",
      "   \"cell_type\": \"markdown\",\r\n",
      "   \"metadata\": {},\r\n",
      "   \"source\": [\r\n",
      "    \"## Caveats\\n\",\r\n",
      "    \"- Jupyter es una interfaz entre el shell de Python y el usuario, en muy raras ocasiones puede dar errores sutiles cuando se ejecutan módulos o funciones que no darían error ejecutandolos directamente y viceversa.\\n\",\r\n",
      "    \"- El orden de ejecución de las celdas es importante.\"\r\n",
      "   ]\r\n",
      "  },\r\n",
      "  {\r\n",
      "   \"cell_type\": \"code\",\r\n",
      "   \"execution_count\": null,\r\n",
      "   \"metadata\": {},\r\n",
      "   \"outputs\": [],\r\n",
      "   \"source\": [\r\n",
      "    \" a = 2\"\r\n",
      "   ]\r\n",
      "  },\r\n",
      "  {\r\n",
      "   \"cell_type\": \"code\",\r\n",
      "   \"execution_count\": null,\r\n",
      "   \"metadata\": {},\r\n",
      "   \"outputs\": [],\r\n",
      "   \"source\": [\r\n",
      "    \"a + 2\"\r\n",
      "   ]\r\n",
      "  },\r\n",
      "  {\r\n",
      "   \"cell_type\": \"code\",\r\n",
      "   \"execution_count\": null,\r\n",
      "   \"metadata\": {},\r\n",
      "   \"outputs\": [],\r\n",
      "   \"source\": [\r\n",
      "    \"a = 5\"\r\n",
      "   ]\r\n",
      "  },\r\n",
      "  {\r\n",
      "   \"cell_type\": \"markdown\",\r\n",
      "   \"metadata\": {},\r\n",
      "   \"source\": [\r\n",
      "    \"## Magic functions\"\r\n",
      "   ]\r\n",
      "  },\r\n",
      "  {\r\n",
      "   \"cell_type\": \"markdown\",\r\n",
      "   \"metadata\": {},\r\n",
      "   \"source\": [\r\n",
      "    \"- IPython posee ciertas funciones **mágicas**\\n\",\r\n",
      "    \"- Se distinguen dos tipos:\\n\",\r\n",
      "    \"    - Funciones mágicas de línea (empiezan por `%`) -> El argumento es el resto de la línea\\n\",\r\n",
      "    \"    - Funciones mágicas de celda (empiezan por `%%`) -> El argumento es el resto de la celda\"\r\n",
      "   ]\r\n",
      "  },\r\n",
      "  {\r\n",
      "   \"cell_type\": \"markdown\",\r\n",
      "   \"metadata\": {},\r\n",
      "   \"source\": [\r\n",
      "    \"- Estas son las funciones mágicas de las que disponemos\"\r\n",
      "   ]\r\n",
      "  },\r\n",
      "  {\r\n",
      "   \"cell_type\": \"code\",\r\n",
      "   \"execution_count\": null,\r\n",
      "   \"metadata\": {},\r\n",
      "   \"outputs\": [],\r\n",
      "   \"source\": [\r\n",
      "    \"%lsmagic\"\r\n",
      "   ]\r\n",
      "  },\r\n",
      "  {\r\n",
      "   \"cell_type\": \"markdown\",\r\n",
      "   \"metadata\": {},\r\n",
      "   \"source\": [\r\n",
      "    \"- Las más útiles:\\n\",\r\n",
      "    \"    - `%%timeit` -> Mide el tiempo de ejecución haciendo varias repeticiones\\n\",\r\n",
      "    \"    - `%%time` -> Mide el tiempo de ejecución\\n\",\r\n",
      "    \"    - `%%file` -> Escribe el contenido de la celda en un archivo .py\\n\",\r\n",
      "    \"    - `%%writefile` -> Lo mismo que file.\\n\",\r\n",
      "    \"    - `%run` -> Ejecuta un script de Python como si estuvieramos fuera de Python\\n\",\r\n",
      "    \"    - `%pwd` -> Devuelve el directorio de trabajo actual\\n\",\r\n",
      "    \"    - `%cd` -> Cambia el directorio de trabajo\\n\",\r\n",
      "    \"    - `%precision` -> Precisión con la que se muetran los resultados numéricos\\n\",\r\n",
      "    \"    - `%who` -> Imprime una lista de las variables interactivas\\n\",\r\n",
      "    \"    - `%who_ls` -> Igual que %who pero en forma de lista\\n\",\r\n",
      "    \"    - `%whos` -> Igual que who pero devuelve más información\\n\",\r\n",
      "    \"    - `%matplotlib` -> Útil para ver los gráficos directamente en el notebook (%matplotlib inline)\\n\",\r\n",
      "    \"\\n\",\r\n",
      "    \"    \\n\",\r\n",
      "    \"- Otras magias útiles\\n\",\r\n",
      "    \"    - `%automagic` -> No tenemos que poner % delante de las funciones mágicas.\\n\",\r\n",
      "    \"    - `%quickref` -> Cheatsheet de funciones mágicas\\n\",\r\n",
      "    \"    - `%config` -> Sirve para configurar IPython\\n\",\r\n",
      "    \"    - `%history` -> Muestra el historial de los comandos usados\\n\",\r\n",
      "    \"    - `%macro` -> Define un macro para ejecutar más tarde\\n\",\r\n",
      "    \"    - `%xdel` -> Elimina una variable\\n\",\r\n",
      "    \"    - `%reset` -> Borra todas las variables definidas por el usuario\"\r\n",
      "   ]\r\n",
      "  },\r\n",
      "  {\r\n",
      "   \"cell_type\": \"code\",\r\n",
      "   \"execution_count\": null,\r\n",
      "   \"metadata\": {},\r\n",
      "   \"outputs\": [],\r\n",
      "   \"source\": [\r\n",
      "    \"import matplotlib.pyplot as plt\\n\",\r\n",
      "    \"import numpy as np\\n\"\r\n",
      "   ]\r\n",
      "  },\r\n",
      "  {\r\n",
      "   \"cell_type\": \"code\",\r\n",
      "   \"execution_count\": null,\r\n",
      "   \"metadata\": {},\r\n",
      "   \"outputs\": [],\r\n",
      "   \"source\": [\r\n",
      "    \"%matplotlib inline\"\r\n",
      "   ]\r\n",
      "  },\r\n",
      "  {\r\n",
      "   \"cell_type\": \"code\",\r\n",
      "   \"execution_count\": null,\r\n",
      "   \"metadata\": {},\r\n",
      "   \"outputs\": [],\r\n",
      "   \"source\": [\r\n",
      "    \"x = np.linspace(0,100,40)\\n\",\r\n",
      "    \"y = x*2\\n\",\r\n",
      "    \"plt.plot(x,y)\"\r\n",
      "   ]\r\n",
      "  },\r\n",
      "  {\r\n",
      "   \"cell_type\": \"code\",\r\n",
      "   \"execution_count\": null,\r\n",
      "   \"metadata\": {},\r\n",
      "   \"outputs\": [],\r\n",
      "   \"source\": [\r\n",
      "    \"%%time\\n\",\r\n",
      "    \"2+2\"\r\n",
      "   ]\r\n",
      "  },\r\n",
      "  {\r\n",
      "   \"cell_type\": \"code\",\r\n",
      "   \"execution_count\": null,\r\n",
      "   \"metadata\": {},\r\n",
      "   \"outputs\": [],\r\n",
      "   \"source\": [\r\n",
      "    \"%%timeit\\n\",\r\n",
      "    \"2+2\"\r\n",
      "   ]\r\n",
      "  },\r\n",
      "  {\r\n",
      "   \"cell_type\": \"code\",\r\n",
      "   \"execution_count\": null,\r\n",
      "   \"metadata\": {},\r\n",
      "   \"outputs\": [],\r\n",
      "   \"source\": [\r\n",
      "    \"%%file tmp/test.py\\n\",\r\n",
      "    \"a = 10**2\\n\",\r\n",
      "    \"print(a)\\n\",\r\n",
      "    \"print(\\\"Me he ejecutado!\\\")\"\r\n",
      "   ]\r\n",
      "  },\r\n",
      "  {\r\n",
      "   \"cell_type\": \"code\",\r\n",
      "   \"execution_count\": null,\r\n",
      "   \"metadata\": {},\r\n",
      "   \"outputs\": [],\r\n",
      "   \"source\": [\r\n",
      "    \"%run tmp/test.py\"\r\n",
      "   ]\r\n",
      "  },\r\n",
      "  {\r\n",
      "   \"cell_type\": \"code\",\r\n",
      "   \"execution_count\": null,\r\n",
      "   \"metadata\": {},\r\n",
      "   \"outputs\": [],\r\n",
      "   \"source\": [\r\n",
      "    \"%pwd\"\r\n",
      "   ]\r\n",
      "  },\r\n",
      "  {\r\n",
      "   \"cell_type\": \"code\",\r\n",
      "   \"execution_count\": null,\r\n",
      "   \"metadata\": {},\r\n",
      "   \"outputs\": [],\r\n",
      "   \"source\": [\r\n",
      "    \"import math\\n\",\r\n",
      "    \"math.sqrt(2)\"\r\n",
      "   ]\r\n",
      "  },\r\n",
      "  {\r\n",
      "   \"cell_type\": \"code\",\r\n",
      "   \"execution_count\": null,\r\n",
      "   \"metadata\": {},\r\n",
      "   \"outputs\": [],\r\n",
      "   \"source\": [\r\n",
      "    \"%precision 2\"\r\n",
      "   ]\r\n",
      "  },\r\n",
      "  {\r\n",
      "   \"cell_type\": \"code\",\r\n",
      "   \"execution_count\": null,\r\n",
      "   \"metadata\": {},\r\n",
      "   \"outputs\": [],\r\n",
      "   \"source\": [\r\n",
      "    \"3.141516/2\"\r\n",
      "   ]\r\n",
      "  },\r\n",
      "  {\r\n",
      "   \"cell_type\": \"markdown\",\r\n",
      "   \"metadata\": {},\r\n",
      "   \"source\": [\r\n",
      "    \"Not affecting other libraries\"\r\n",
      "   ]\r\n",
      "  },\r\n",
      "  {\r\n",
      "   \"cell_type\": \"code\",\r\n",
      "   \"execution_count\": null,\r\n",
      "   \"metadata\": {},\r\n",
      "   \"outputs\": [],\r\n",
      "   \"source\": [\r\n",
      "    \"np.sqrt(2)\"\r\n",
      "   ]\r\n",
      "  },\r\n",
      "  {\r\n",
      "   \"cell_type\": \"markdown\",\r\n",
      "   \"metadata\": {},\r\n",
      "   \"source\": [\r\n",
      "    \"- Aunque se llame `%precision`, no es la precisión con la que se calculan los resultados numéricos\"\r\n",
      "   ]\r\n",
      "  },\r\n",
      "  {\r\n",
      "   \"cell_type\": \"code\",\r\n",
      "   \"execution_count\": null,\r\n",
      "   \"metadata\": {},\r\n",
      "   \"outputs\": [],\r\n",
      "   \"source\": [\r\n",
      "    \"1/3. + 1/3. + 1/3.\"\r\n",
      "   ]\r\n",
      "  },\r\n",
      "  {\r\n",
      "   \"cell_type\": \"markdown\",\r\n",
      "   \"metadata\": {},\r\n",
      "   \"source\": [\r\n",
      "    \"- Cuidado con el error numérico!\"\r\n",
      "   ]\r\n",
      "  },\r\n",
      "  {\r\n",
      "   \"cell_type\": \"code\",\r\n",
      "   \"execution_count\": null,\r\n",
      "   \"metadata\": {},\r\n",
      "   \"outputs\": [],\r\n",
      "   \"source\": [\r\n",
      "    \"%precision 50\"\r\n",
      "   ]\r\n",
      "  },\r\n",
      "  {\r\n",
      "   \"cell_type\": \"code\",\r\n",
      "   \"execution_count\": null,\r\n",
      "   \"metadata\": {},\r\n",
      "   \"outputs\": [],\r\n",
      "   \"source\": [\r\n",
      "    \"1/3\"\r\n",
      "   ]\r\n",
      "  },\r\n",
      "  {\r\n",
      "   \"cell_type\": \"code\",\r\n",
      "   \"execution_count\": null,\r\n",
      "   \"metadata\": {},\r\n",
      "   \"outputs\": [],\r\n",
      "   \"source\": [\r\n",
      "    \"%who\"\r\n",
      "   ]\r\n",
      "  },\r\n",
      "  {\r\n",
      "   \"cell_type\": \"code\",\r\n",
      "   \"execution_count\": null,\r\n",
      "   \"metadata\": {},\r\n",
      "   \"outputs\": [],\r\n",
      "   \"source\": [\r\n",
      "    \"%who_ls\"\r\n",
      "   ]\r\n",
      "  },\r\n",
      "  {\r\n",
      "   \"cell_type\": \"code\",\r\n",
      "   \"execution_count\": null,\r\n",
      "   \"metadata\": {},\r\n",
      "   \"outputs\": [],\r\n",
      "   \"source\": [\r\n",
      "    \"%whos\"\r\n",
      "   ]\r\n",
      "  },\r\n",
      "  {\r\n",
      "   \"cell_type\": \"code\",\r\n",
      "   \"execution_count\": null,\r\n",
      "   \"metadata\": {},\r\n",
      "   \"outputs\": [],\r\n",
      "   \"source\": [\r\n",
      "    \"%config\"\r\n",
      "   ]\r\n",
      "  },\r\n",
      "  {\r\n",
      "   \"cell_type\": \"code\",\r\n",
      "   \"execution_count\": null,\r\n",
      "   \"metadata\": {},\r\n",
      "   \"outputs\": [],\r\n",
      "   \"source\": [\r\n",
      "    \"%history\"\r\n",
      "   ]\r\n",
      "  },\r\n",
      "  {\r\n",
      "   \"cell_type\": \"code\",\r\n",
      "   \"execution_count\": null,\r\n",
      "   \"metadata\": {},\r\n",
      "   \"outputs\": [],\r\n",
      "   \"source\": [\r\n",
      "    \"%quickref\"\r\n",
      "   ]\r\n",
      "  },\r\n",
      "  {\r\n",
      "   \"cell_type\": \"markdown\",\r\n",
      "   \"metadata\": {},\r\n",
      "   \"source\": [\r\n",
      "    \"## Colab\"\r\n",
      "   ]\r\n",
      "  },\r\n",
      "  {\r\n",
      "   \"cell_type\": \"markdown\",\r\n",
      "   \"metadata\": {},\r\n",
      "   \"source\": [\r\n",
      "    \"- Herramienta de Google para trabajar con notebooks en la nube\\n\",\r\n",
      "    \"- No es necesario instalar nada en nuestro ordenador\\n\",\r\n",
      "    \"- El código se ejecuta en servidores de Google\\n\",\r\n",
      "    \"- Está integrado con Google Drive\\n\",\r\n",
      "    \"- Podemos acceder haciendo click [aquí](https://colab.research.google.com/)\"\r\n",
      "   ]\r\n",
      "  }\r\n",
      " ],\r\n",
      " \"metadata\": {\r\n",
      "  \"kernelspec\": {\r\n",
      "   \"display_name\": \"Python 3 (ipykernel)\",\r\n",
      "   \"language\": \"python\",\r\n",
      "   \"name\": \"python3\"\r\n",
      "  },\r\n",
      "  \"language_info\": {\r\n",
      "   \"codemirror_mode\": {\r\n",
      "    \"name\": \"ipython\",\r\n",
      "    \"version\": 3\r\n",
      "   },\r\n",
      "   \"file_extension\": \".py\",\r\n",
      "   \"mimetype\": \"text/x-python\",\r\n",
      "   \"name\": \"python\",\r\n",
      "   \"nbconvert_exporter\": \"python\",\r\n",
      "   \"pygments_lexer\": \"ipython3\",\r\n",
      "   \"version\": \"3.8.11\"\r\n",
      "  }\r\n",
      " },\r\n",
      " \"nbformat\": 4,\r\n",
      " \"nbformat_minor\": 4\r\n",
      "}\r\n"
     ]
    }
   ],
   "source": [
    "cat 01_Jupyter_clean.ipynb"
   ]
  },
  {
   "cell_type": "markdown",
   "metadata": {},
   "source": [
    "## Barside"
   ]
  },
  {
   "cell_type": "markdown",
   "metadata": {},
   "source": [
    "- Explorador de archivos\n",
    "- Kernels/Terminals -> Shutdown kernels\n",
    "- Acciones/commandos (keyboard shortcuts)\n",
    "- Herramientas\n",
    "- Pestañas abiertas\n",
    "- Plugins"
   ]
  },
  {
   "cell_type": "markdown",
   "metadata": {},
   "source": [
    "## Comandos útiles"
   ]
  },
  {
   "cell_type": "markdown",
   "metadata": {},
   "source": [
    "- Command Mode:\n",
    "|Shortcut| Desciption|\n",
    "|-|-|\n",
    "|shift + enter| ejecuta la celda, selecciona celda siguiente|\n",
    "|ctrl + enter| ejecuta la celda|\n",
    "|alt + enter| ejecuta la celda, inserta una nueva celda debajo|\n",
    "|A |inserta una celda encima (above) de la actual|\n",
    "|B |inserta una celda abajo (below) de la actual|\n",
    "|C |copia la celda |\n",
    "|V |pega la celda|\n",
    "|D , D |borra la celda seleccionada|\n",
    "|Z|deshace última acción de celda|\n",
    "|shift + M | junta las celdas seleccionadas|\n",
    "|I , I |interrupt kernel|\n",
    "|0 , 0 |restart kernel (with dialog)|\n",
    "|Y |cambia la celda a modo código|\n",
    "|M |cambia la celda a modo markdown (texto)|\n",
    "|R |cambia la celda a modo raw|\n",
    "- Edit Mode:\n",
    "|Shortcut| Desciption|\n",
    "|-|-|\n",
    "|tab| autocompletado o indentación|\n",
    "|shift + tab| muestra ayuda sobre cualquier función|\n",
    "|ctrl + shift + - | divide la celda|"
   ]
  },
  {
   "cell_type": "markdown",
   "metadata": {},
   "source": [
    "## Código"
   ]
  },
  {
   "cell_type": "markdown",
   "metadata": {},
   "source": [
    "- Cada celda de código se puede ejecutar de forma independiente. \n",
    "- Para ejecutar una celda:\n",
    "    - Pulsa el botón `\"Run\"` situado arriba\n",
    "    - Pusa `Ctrl + Enter` (se quedará seleccionada la celda en la que te encuentres)\n",
    "    - Pulsa `Shift + Enter` (se ejecutará y pasará a seleccionarse la siguiente celda)\n",
    "- `[ ]:` -> Una celda sin ejecutar\n",
    "- `[*]:` -> Celda ejecutándose\n",
    "- `[6]` -> Celda ejecutada\n",
    "- `[6]` -> Si hay output, también aparece en el output el número asociado a la celda\n",
    "- Si una celda se ejecuta de nuevo, el número asociado cambiará."
   ]
  },
  {
   "cell_type": "code",
   "execution_count": null,
   "metadata": {},
   "outputs": [],
   "source": [
    "# Comentarios\n",
    "2+2"
   ]
  },
  {
   "cell_type": "markdown",
   "metadata": {},
   "source": [
    "La celda sólo devuelve el resultado de la última línea"
   ]
  },
  {
   "cell_type": "code",
   "execution_count": null,
   "metadata": {},
   "outputs": [],
   "source": [
    "2+2\n",
    "3+5"
   ]
  },
  {
   "cell_type": "markdown",
   "metadata": {},
   "source": [
    "Esto no arroja nada ya que no hay ningún resultado que mostrar"
   ]
  },
  {
   "cell_type": "code",
   "execution_count": null,
   "metadata": {},
   "outputs": [],
   "source": [
    "a = 2+2 "
   ]
  },
  {
   "cell_type": "markdown",
   "metadata": {},
   "source": [
    "Podemos imprimir un resultado explícitamente"
   ]
  },
  {
   "cell_type": "code",
   "execution_count": null,
   "metadata": {},
   "outputs": [],
   "source": [
    "a"
   ]
  },
  {
   "cell_type": "code",
   "execution_count": null,
   "metadata": {},
   "outputs": [],
   "source": [
    "print(a)\n",
    "2*10"
   ]
  },
  {
   "cell_type": "markdown",
   "metadata": {},
   "source": [
    "Variables accesibles en el notebook"
   ]
  },
  {
   "cell_type": "code",
   "execution_count": 5,
   "metadata": {},
   "outputs": [
    {
     "data": {
      "text/plain": [
       "['In',\n",
       " 'Out',\n",
       " '_',\n",
       " '_1',\n",
       " '__',\n",
       " '___',\n",
       " '__builtin__',\n",
       " '__builtins__',\n",
       " '__doc__',\n",
       " '__loader__',\n",
       " '__name__',\n",
       " '__package__',\n",
       " '__spec__',\n",
       " '_dh',\n",
       " '_exit_code',\n",
       " '_i',\n",
       " '_i1',\n",
       " '_i2',\n",
       " '_i3',\n",
       " '_i4',\n",
       " '_i5',\n",
       " '_ih',\n",
       " '_ii',\n",
       " '_iii',\n",
       " '_oh',\n",
       " 'exit',\n",
       " 'get_ipython',\n",
       " 'quit']"
      ]
     },
     "execution_count": 5,
     "metadata": {},
     "output_type": "execute_result"
    }
   ],
   "source": [
    "dir()"
   ]
  },
  {
   "cell_type": "markdown",
   "metadata": {},
   "source": [
    "Las variables `_1`, `_2`, ... contienem los resultados de las celdas correspondientes.\n",
    "\n",
    "Las variables `_i1`, `_i2` continen los inputs de las celdas correspondientes.\n",
    "\n",
    "(iPython)"
   ]
  },
  {
   "cell_type": "code",
   "execution_count": 6,
   "metadata": {},
   "outputs": [
    {
     "ename": "NameError",
     "evalue": "name '_8' is not defined",
     "output_type": "error",
     "traceback": [
      "\u001b[0;31m---------------------------------------------------------------------------\u001b[0m",
      "\u001b[0;31mNameError\u001b[0m                                 Traceback (most recent call last)",
      "\u001b[0;32m/tmp/ipykernel_11813/241365309.py\u001b[0m in \u001b[0;36m<module>\u001b[0;34m\u001b[0m\n\u001b[0;32m----> 1\u001b[0;31m \u001b[0m_8\u001b[0m\u001b[0;34m\u001b[0m\u001b[0;34m\u001b[0m\u001b[0m\n\u001b[0m",
      "\u001b[0;31mNameError\u001b[0m: name '_8' is not defined"
     ]
    }
   ],
   "source": [
    "_8"
   ]
  },
  {
   "cell_type": "code",
   "execution_count": null,
   "metadata": {},
   "outputs": [],
   "source": [
    "_i8"
   ]
  },
  {
   "cell_type": "code",
   "execution_count": null,
   "metadata": {},
   "outputs": [],
   "source": [
    "eval(_i4)"
   ]
  },
  {
   "cell_type": "code",
   "execution_count": null,
   "metadata": {},
   "outputs": [],
   "source": [
    "## coge un string y lo reconocer como lenguaje de python"
   ]
  },
  {
   "cell_type": "markdown",
   "metadata": {},
   "source": [
    "## Markdown"
   ]
  },
  {
   "cell_type": "markdown",
   "metadata": {},
   "source": [
    "Podemos dar formato al texto usando el lenguaje **Markdown**. Por ejemplo:\n",
    "\n",
    "*cursiva*, **negrita**, **_ambas_**, ~~tachado~~, `citas`\n",
    "- Listas\n",
    "    - Listas anidadas\n",
    "        - Otra anidación\n",
    "1. Listas numeradas\n",
    "    1. Anidación\n",
    "        1. Otro nivel de anidación\n",
    "\n",
    "### Títulos\n",
    "#### Subtítulo\n",
    "##### Otro subtítulo\n",
    "\n",
    "Links:\n",
    "Si haces click [aquí](https://github.com/adam-p/markdown-here/wiki/Markdown-Cheatsheet) puedes ver una cheatsheet con formatos de Markdown.\n",
    "\n",
    "Código python:\n",
    "```python\n",
    "a = 2+2\n",
    "```\n",
    "\n",
    "También podemos escribir fórmulas usando $\\LaTeX$:\n",
    "\n",
    "$$\\sum_{n=1}^\\infty{\\frac{1}{n^2}} \\, = \\, \\frac{\\pi^2}{6}$$\n",
    "\n",
    "O si queremos insertar fórmulas directamente en el texto: $e^{i\\pi}+1\\,=\\,0$.\n",
    "\n",
    "Se pueden insertar figuras:\n",
    "<center>\n",
    "<img src=\"pictures/python.png\"  alt=\"drawing\" width=\"300\"/>\n",
    "</center>"
   ]
  },
  {
   "cell_type": "markdown",
   "metadata": {},
   "source": [
    "##  Shell"
   ]
  },
  {
   "cell_type": "markdown",
   "metadata": {},
   "source": [
    "- Podemos ejecutar comandos de shell con `!` directamente desde Jupyter.\n",
    "- No muestra la misma información que devuelve la terminal.\n",
    "- No es aconsejable, mejor directamente desde la terminal."
   ]
  },
  {
   "cell_type": "code",
   "execution_count": null,
   "metadata": {},
   "outputs": [],
   "source": [
    "path =\"/Users/aalmagro/Documents/KSchool/Streaming_002/IntroPython\""
   ]
  },
  {
   "cell_type": "code",
   "execution_count": null,
   "metadata": {},
   "outputs": [],
   "source": [
    "!ls"
   ]
  },
  {
   "cell_type": "code",
   "execution_count": null,
   "metadata": {},
   "outputs": [],
   "source": [
    "!pwd"
   ]
  },
  {
   "cell_type": "code",
   "execution_count": null,
   "metadata": {},
   "outputs": [],
   "source": [
    "!ls {path}"
   ]
  },
  {
   "cell_type": "code",
   "execution_count": null,
   "metadata": {},
   "outputs": [],
   "source": [
    "!ls /Users/aalmagro/Documents/KSchool/Streaming_002/IntroPython"
   ]
  },
  {
   "cell_type": "markdown",
   "metadata": {},
   "source": [
    "## Visualización"
   ]
  },
  {
   "cell_type": "markdown",
   "metadata": {},
   "source": [
    "- Podemos visualizar varios notebooks al mismo tiempo ya que la pantalla puede dividirse con libertad.\n",
    "- Para ello podemos clickear en una pestaña y arrastrarla a la zona de la pantalla donde queremos verla."
   ]
  },
  {
   "cell_type": "markdown",
   "metadata": {},
   "source": [
    "## Exportar"
   ]
  },
  {
   "cell_type": "markdown",
   "metadata": {},
   "source": [
    "- Podemos exportar los Notebooks en varios formatos\n",
    "- File -> Export notebook as...\n",
    "- Por ejemplo:\n",
    "    - **HTML**\n",
    "    - **PDF**\n",
    "    - $\\LaTeX$\n",
    "    - **Markdown**\n",
    "- En estos formatos no podremos ejecutar código, pero sí observar los resultados que hayan sido ejecutados previamente."
   ]
  },
  {
   "cell_type": "markdown",
   "metadata": {},
   "source": [
    "## Ventajas de los Notebooks\n",
    "- Muy útiles para exploración de datos, visualización de datos, investigación en un sentido amplio.\n",
    "- En general también para comunicar resultados: clases, congresos, demostraciones, ..."
   ]
  },
  {
   "cell_type": "markdown",
   "metadata": {},
   "source": [
    "## Desventajas de los Notebooks\n",
    "- No son en general una herramienta para entornos de producción.\n",
    "- Para proyectos complejos, hay editores con mejores herramientas para desarroladores (VS Code/PyCharm)."
   ]
  },
  {
   "cell_type": "markdown",
   "metadata": {},
   "source": [
    "## Caveats\n",
    "- Jupyter es una interfaz entre el shell de Python y el usuario, en muy raras ocasiones puede dar errores sutiles cuando se ejecutan módulos o funciones que no darían error ejecutandolos directamente y viceversa.\n",
    "- El orden de ejecución de las celdas es importante."
   ]
  },
  {
   "cell_type": "code",
   "execution_count": null,
   "metadata": {},
   "outputs": [],
   "source": [
    " a = 2"
   ]
  },
  {
   "cell_type": "code",
   "execution_count": null,
   "metadata": {},
   "outputs": [],
   "source": [
    "a + 2"
   ]
  },
  {
   "cell_type": "code",
   "execution_count": null,
   "metadata": {},
   "outputs": [],
   "source": [
    "a = 5"
   ]
  },
  {
   "cell_type": "markdown",
   "metadata": {},
   "source": [
    "## Magic functions"
   ]
  },
  {
   "cell_type": "markdown",
   "metadata": {},
   "source": [
    "- IPython posee ciertas funciones **mágicas**\n",
    "- Se distinguen dos tipos:\n",
    "    - Funciones mágicas de línea (empiezan por `%`) -> El argumento es el resto de la línea\n",
    "    - Funciones mágicas de celda (empiezan por `%%`) -> El argumento es el resto de la celda"
   ]
  },
  {
   "cell_type": "markdown",
   "metadata": {},
   "source": [
    "- Estas son las funciones mágicas de las que disponemos"
   ]
  },
  {
   "cell_type": "code",
   "execution_count": null,
   "metadata": {},
   "outputs": [],
   "source": [
    "%lsmagic"
   ]
  },
  {
   "cell_type": "markdown",
   "metadata": {},
   "source": [
    "- Las más útiles:\n",
    "    - `%%timeit` -> Mide el tiempo de ejecución haciendo varias repeticiones\n",
    "    - `%%time` -> Mide el tiempo de ejecución\n",
    "    - `%%file` -> Escribe el contenido de la celda en un archivo .py\n",
    "    - `%%writefile` -> Lo mismo que file.\n",
    "    - `%run` -> Ejecuta un script de Python como si estuvieramos fuera de Python\n",
    "    - `%pwd` -> Devuelve el directorio de trabajo actual\n",
    "    - `%cd` -> Cambia el directorio de trabajo\n",
    "    - `%precision` -> Precisión con la que se muetran los resultados numéricos\n",
    "    - `%who` -> Imprime una lista de las variables interactivas\n",
    "    - `%who_ls` -> Igual que %who pero en forma de lista\n",
    "    - `%whos` -> Igual que who pero devuelve más información\n",
    "    - `%matplotlib` -> Útil para ver los gráficos directamente en el notebook (%matplotlib inline)\n",
    "\n",
    "    \n",
    "- Otras magias útiles\n",
    "    - `%automagic` -> No tenemos que poner % delante de las funciones mágicas.\n",
    "    - `%quickref` -> Cheatsheet de funciones mágicas\n",
    "    - `%config` -> Sirve para configurar IPython\n",
    "    - `%history` -> Muestra el historial de los comandos usados\n",
    "    - `%macro` -> Define un macro para ejecutar más tarde\n",
    "    - `%xdel` -> Elimina una variable\n",
    "    - `%reset` -> Borra todas las variables definidas por el usuario"
   ]
  },
  {
   "cell_type": "code",
   "execution_count": 7,
   "metadata": {},
   "outputs": [],
   "source": [
    "import matplotlib.pyplot as plt\n",
    "import numpy as np\n"
   ]
  },
  {
   "cell_type": "code",
   "execution_count": null,
   "metadata": {},
   "outputs": [],
   "source": [
    "%matplotlib inline"
   ]
  },
  {
   "cell_type": "code",
   "execution_count": 8,
   "metadata": {},
   "outputs": [
    {
     "data": {
      "text/plain": [
       "[<matplotlib.lines.Line2D at 0x7fa62c14c490>]"
      ]
     },
     "execution_count": 8,
     "metadata": {},
     "output_type": "execute_result"
    },
    {
     "data": {
      "image/png": "[encoded data removed]",
      "text/plain": [
       "<Figure size 432x288 with 1 Axes>"
      ]
     },
     "metadata": {
      "needs_background": "light"
     },
     "output_type": "display_data"
    }
   ],
   "source": [
    "x = np.linspace(0,100,40)\n",
    "y = x*2\n",
    "plt.plot(x,y)"
   ]
  },
  {
   "cell_type": "code",
   "execution_count": 9,
   "metadata": {},
   "outputs": [
    {
     "name": "stdout",
     "output_type": "stream",
     "text": [
      "CPU times: user 2 µs, sys: 0 ns, total: 2 µs\n",
      "Wall time: 3.34 µs\n"
     ]
    },
    {
     "data": {
      "text/plain": [
       "4"
      ]
     },
     "execution_count": 9,
     "metadata": {},
     "output_type": "execute_result"
    }
   ],
   "source": [
    "%%time\n",
    "2+2"
   ]
  },
  {
   "cell_type": "code",
   "execution_count": 10,
   "metadata": {
    "scrolled": true
   },
   "outputs": [
    {
     "name": "stdout",
     "output_type": "stream",
     "text": [
      "4.69 ns ± 0.0327 ns per loop (mean ± std. dev. of 7 runs, 100000000 loops each)\n"
     ]
    }
   ],
   "source": [
    "## quieres saber cuanto tarda en ejecutarse una celda... las veces que se ejecuto.\n",
    "%%timeit\n",
    "2+2"
   ]
  },
  {
   "cell_type": "code",
   "execution_count": 12,
   "metadata": {},
   "outputs": [
    {
     "name": "stdout",
     "output_type": "stream",
     "text": [
      "mkdir: cannot create directory ‘tmp’: File exists\r\n"
     ]
    }
   ],
   "source": [
    "! mkdir tmp"
   ]
  },
  {
   "cell_type": "code",
   "execution_count": 13,
   "metadata": {},
   "outputs": [
    {
     "name": "stdout",
     "output_type": "stream",
     "text": [
      "Writing tmp/test.py\n"
     ]
    }
   ],
   "source": [
    "%%file tmp/test.py\n",
    "a = 10**2\n",
    "print(a)\n",
    "print(\"Me he ejecutado!\")"
   ]
  },
  {
   "cell_type": "code",
   "execution_count": 14,
   "metadata": {},
   "outputs": [
    {
     "name": "stdout",
     "output_type": "stream",
     "text": [
      "a = 10**2\r\n",
      "print(a)\r\n",
      "print(\"Me he ejecutado!\")\r\n"
     ]
    }
   ],
   "source": [
    "! cat tmp/test.py"
   ]
  },
  {
   "cell_type": "code",
   "execution_count": 16,
   "metadata": {
    "scrolled": false
   },
   "outputs": [
    {
     "name": "stdout",
     "output_type": "stream",
     "text": [
      "100\n",
      "Me he ejecutado!\n"
     ]
    }
   ],
   "source": [
    "%run tmp/test.py"
   ]
  },
  {
   "cell_type": "code",
   "execution_count": null,
   "metadata": {},
   "outputs": [],
   "source": [
    "## desde cel se puede ejecutar\n",
    "! python tmp/test.py"
   ]
  },
  {
   "cell_type": "code",
   "execution_count": 17,
   "metadata": {},
   "outputs": [
    {
     "data": {
      "text/plain": [
       "'/home/dsc/Documents/KSchool/Notebooks/part1/part1'"
      ]
     },
     "execution_count": 17,
     "metadata": {},
     "output_type": "execute_result"
    }
   ],
   "source": [
    "%pwd"
   ]
  },
  {
   "cell_type": "code",
   "execution_count": 18,
   "metadata": {},
   "outputs": [
    {
     "data": {
      "text/plain": [
       "1.4142135623730951"
      ]
     },
     "execution_count": 18,
     "metadata": {},
     "output_type": "execute_result"
    }
   ],
   "source": [
    "import math\n",
    "math.sqrt(2)"
   ]
  },
  {
   "cell_type": "code",
   "execution_count": null,
   "metadata": {},
   "outputs": [],
   "source": [
    "%precision 2"
   ]
  },
  {
   "cell_type": "code",
   "execution_count": 19,
   "metadata": {},
   "outputs": [
    {
     "data": {
      "text/plain": [
       "1.570758"
      ]
     },
     "execution_count": 19,
     "metadata": {},
     "output_type": "execute_result"
    }
   ],
   "source": [
    "3.141516/2"
   ]
  },
  {
   "cell_type": "markdown",
   "metadata": {},
   "source": [
    "Not affecting other libraries"
   ]
  },
  {
   "cell_type": "code",
   "execution_count": null,
   "metadata": {},
   "outputs": [],
   "source": [
    "np.sqrt(2)"
   ]
  },
  {
   "cell_type": "markdown",
   "metadata": {},
   "source": [
    "- Aunque se llame `%precision`, no es la precisión con la que se calculan los resultados numéricos"
   ]
  },
  {
   "cell_type": "code",
   "execution_count": null,
   "metadata": {},
   "outputs": [],
   "source": [
    "1/3. + 1/3. + 1/3."
   ]
  },
  {
   "cell_type": "markdown",
   "metadata": {},
   "source": [
    "- Cuidado con el error numérico!"
   ]
  },
  {
   "cell_type": "code",
   "execution_count": null,
   "metadata": {},
   "outputs": [],
   "source": [
    "%precision 50"
   ]
  },
  {
   "cell_type": "code",
   "execution_count": null,
   "metadata": {},
   "outputs": [],
   "source": [
    "1/3"
   ]
  },
  {
   "cell_type": "code",
   "execution_count": null,
   "metadata": {},
   "outputs": [],
   "source": [
    "%who"
   ]
  },
  {
   "cell_type": "code",
   "execution_count": null,
   "metadata": {},
   "outputs": [],
   "source": [
    "%who_ls"
   ]
  },
  {
   "cell_type": "code",
   "execution_count": null,
   "metadata": {},
   "outputs": [],
   "source": [
    "%whos"
   ]
  },
  {
   "cell_type": "code",
   "execution_count": null,
   "metadata": {},
   "outputs": [],
   "source": [
    "%config"
   ]
  },
  {
   "cell_type": "code",
   "execution_count": null,
   "metadata": {},
   "outputs": [],
   "source": [
    "%history"
   ]
  },
  {
   "cell_type": "code",
   "execution_count": null,
   "metadata": {},
   "outputs": [],
   "source": [
    "%quickref"
   ]
  },
  {
   "cell_type": "markdown",
   "metadata": {},
   "source": [
    "## Colab"
   ]
  },
  {
   "cell_type": "markdown",
   "metadata": {},
   "source": [
    "- Herramienta de Google para trabajar con notebooks en la nube\n",
    "- No es necesario instalar nada en nuestro ordenador\n",
    "- El código se ejecuta en servidores de Google\n",
    "- Está integrado con Google Drive\n",
    "- Podemos acceder haciendo click [aquí](https://colab.research.google.com/)"
   ]
  }
 ],
 "metadata": {
  "kernelspec": {
   "display_name": "Python 3 (ipykernel)",
   "language": "python",
   "name": "python3"
  },
  "language_info": {
   "codemirror_mode": {
    "name": "ipython",
    "version": 3
   },
   "file_extension": ".py",
   "mimetype": "text/x-python",
   "name": "python",
   "nbconvert_exporter": "python",
   "pygments_lexer": "ipython3",
   "version": "3.8.11"
  }
 },
 "nbformat": 4,
 "nbformat_minor": 4
}
